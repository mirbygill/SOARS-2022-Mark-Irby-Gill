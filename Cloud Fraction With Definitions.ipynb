{
 "cells": [
  {
   "cell_type": "code",
   "execution_count": null,
   "id": "5d084c5c",
   "metadata": {},
   "outputs": [],
   "source": [
    "import numpy as np\n",
    "import xarray as xr\n",
    "import matplotlib.pyplot as plt\n",
    "import pandas as pd"
   ]
  },
  {
   "cell_type": "markdown",
   "id": "c8310ccf",
   "metadata": {},
   "source": [
    "## Data Files"
   ]
  },
  {
   "cell_type": "code",
   "execution_count": null,
   "id": "efa452b2",
   "metadata": {},
   "outputs": [],
   "source": [
    "C_Sky = xr.open_dataset('/Users/marki/Downloads/CERES_FluxByCldTyp-MON_Terra-Aqua-MODIS_Ed4.1_Subset_allsky_clearsky.nc')\n",
    "Ocean_ = xr.open_dataset('/Users/marki/Downloads/CERES_SSF1deg-Month_Aqua-MODIS_Ed4.1_Subset_200207-202203.nc')\n",
    "Sc_=xr.open_dataset('/Users/marki/Downloads/Sc_climo_mon.nc')\n",
    "Ac_=xr.open_dataset('/Users/marki/Downloads/Ac_climo_mon.nc')\n",
    "As_=xr.open_dataset('/Users/marki/Downloads/As_climo_mon.nc')\n",
    "Cb_=xr.open_dataset('/Users/marki/Downloads/Cb_climo_mon.nc')\n",
    "Ci_=xr.open_dataset('/Users/marki/Downloads/Ci_climo_mon.nc')\n",
    "Cs_=xr.open_dataset('/Users/marki/Downloads/Cs_climo_mon.nc')\n",
    "Cu_=xr.open_dataset('/Users/marki/Downloads/Cu_climo_mon.nc')\n",
    "Ns_=xr.open_dataset('/Users/marki/Downloads/Ns_climo_mon.nc')\n",
    "St_=xr.open_dataset('/Users/marki/Downloads/St_climo_mon.nc')"
   ]
  },
  {
   "cell_type": "markdown",
   "id": "9155c4db",
   "metadata": {},
   "source": [
    "### Clear Sky Albedo Function"
   ]
  },
  {
   "cell_type": "code",
   "execution_count": null,
   "id": "35b27d3a",
   "metadata": {},
   "outputs": [],
   "source": [
    "def Scene_Albedo(C_Sky):\n",
    "    toa_sw_clr_mon=C_Sky['toa_sw_clr_mon'][ : ,30:150, :]\n",
    "    C_sw_leave=np.ravel(toa_sw_clr_mon)\n",
    "    toa_solar_all_mon=C_Sky['toa_solar_all_mon'][ : ,30:150, :]\n",
    "    A_sw_income=np.ravel(toa_solar_all_mon)\n",
    "    \n",
    "    \n",
    "    C_Sky_Albedo=C_sw_leave/A_sw_income\n",
    "    return C_Sky_Albedo\n",
    " "
   ]
  },
  {
   "cell_type": "markdown",
   "id": "fe023500",
   "metadata": {},
   "source": [
    "### Cloud Fraction and Cloud Albedo Function"
   ]
  },
  {
   "cell_type": "code",
   "execution_count": null,
   "id": "c5079f48",
   "metadata": {},
   "outputs": [],
   "source": [
    "def Cloud_Data(Cloud_Type, C_Sky_Albedo):\n",
    "    fraction= Cloud_Type['cldarea_cldtyp_mon'][:,30:150,:]/100\n",
    "    fc=np.ravel(fraction)\n",
    "\n",
    "    Albedo= Cloud_Type['toa_albedo_cldtyp_mon'][:,30:150,:]\n",
    "    \n",
    "    Ac=np.ravel(Albedo)\n",
    "    \n",
    "    Ocn_month= Ocean_['aux_ocean_mon'][0:234,30:150,:]\n",
    "    #Ocn_month\n",
    "    Oc_1d=np.ravel(Ocn_month)\n",
    "    #Oc_1d\n",
    "    full_ocean=Oc_1d==100\n",
    "\n",
    "    \n",
    "    notnan0 = np.logical_and(~np.isnan(fc),~np.isnan(C_Sky_Albedo))\n",
    "    \n",
    "    notnan1=np.logical_and(~np.isnan(Ac), full_ocean)\n",
    "    \n",
    "    notnan=np.logical_and(notnan0, notnan1)\n",
    "    \n",
    "    fcv=fc[notnan]\n",
    "    Acv=Ac[notnan]\n",
    "    Asv=C_Sky_Albedo[notnan]\n",
    "    \n",
    "    Final_Scene_Albedo= fcv*Acv+(1- fcv)*Asv\n",
    "    \n",
    "    y = np.log(Final_Scene_Albedo)\n",
    "    x = fcv\n",
    "    slope = np.sum((x-x.mean())*(y-y.mean()))/np.sum((x-x.mean())**2)\n",
    "    intercept = y.mean()-slope*x.mean()\n",
    "    \n",
    "    x_values=np.arange(0,1,.01)\n",
    "    Best=np.exp(intercept+slope*x_values)\n",
    "    \n",
    "    return fcv, Final_Scene_Albedo, x_values, Best\n"
   ]
  },
  {
   "cell_type": "markdown",
   "id": "4ac2dae2",
   "metadata": {},
   "source": [
    "### Graph Function"
   ]
  },
  {
   "cell_type": "code",
   "execution_count": null,
   "id": "76d7f7b5",
   "metadata": {},
   "outputs": [],
   "source": [
    "def Graph(fcv, Final_Scene_Albedo, x_values, Best):\n",
    "    plt.figure(figsize=(16,9))\n",
    "    plt.hist2d(fcv, Final_Scene_Albedo, bins=100, cmap='PuBuGn')\n",
    "    plt.ylim(0,1)\n",
    "    plt.plot(x_values, Best,linestyle='--', linewidth=1, color=\"black\")\n",
    "    plt.title('Cloud Fraction vs. Albedo')\n",
    "    plt.xlabel('Cloud Fraction')\n",
    "    plt.ylabel('C_Sky_Albedo=Scene_Albedo(C_Sky)Albedo (%)')\n",
    "    cbar=plt.colorbar()\n",
    "    cbar.set_label('Counts')\n",
    "    "
   ]
  },
  {
   "cell_type": "markdown",
   "id": "64711f09",
   "metadata": {},
   "source": [
    "# Running Functions For Sc Clouds"
   ]
  },
  {
   "cell_type": "code",
   "execution_count": null,
   "id": "a242939a",
   "metadata": {},
   "outputs": [],
   "source": [
    "C_Sky_Albedo=Scene_Albedo(C_Sky)\n",
    "fcv,Final_Scene_Albedo,x_values, Best =Cloud_Data(Sc_, C_Sky_Albedo)\n",
    "Graph(fcv,Final_Scene_Albedo,x_values, Best)"
   ]
  },
  {
   "cell_type": "markdown",
   "id": "ef590f80",
   "metadata": {},
   "source": [
    "# Ci Clouds"
   ]
  },
  {
   "cell_type": "code",
   "execution_count": null,
   "id": "d24109ff",
   "metadata": {},
   "outputs": [],
   "source": [
    "C_Sky_Albedo=Scene_Albedo(C_Sky)\n",
    "fcv,Final_Scene_Albedo,x_values, Best =Cloud_Data(Ci_, C_Sky_Albedo)\n",
    "Graph(fcv,Final_Scene_Albedo,x_values, Best)"
   ]
  },
  {
   "cell_type": "markdown",
   "id": "ff8f169f",
   "metadata": {},
   "source": [
    "# As"
   ]
  },
  {
   "cell_type": "code",
   "execution_count": null,
   "id": "4f13bf97",
   "metadata": {},
   "outputs": [],
   "source": [
    "C_Sky_Albedo=Scene_Albedo(C_Sky)\n",
    "\n",
    "fcv,Final_Scene_Albedo,x_values, Best =Cloud_Data(As_, C_Sky_Albedo)\n",
    "\n",
    "Graph(fcv,Final_Scene_Albedo,x_values, Best)"
   ]
  },
  {
   "cell_type": "markdown",
   "id": "38efc731",
   "metadata": {},
   "source": [
    "# Ac"
   ]
  },
  {
   "cell_type": "code",
   "execution_count": null,
   "id": "607778c4",
   "metadata": {},
   "outputs": [],
   "source": [
    "C_Sky_Albedo=Scene_Albedo(C_Sky)\n",
    "\n",
    "fcv,Final_Scene_Albedo,x_values, Best =Cloud_Data(Ac_, C_Sky_Albedo)\n",
    "\n",
    "Graph(fcv,Final_Scene_Albedo,x_values, Best)"
   ]
  },
  {
   "cell_type": "markdown",
   "id": "50539ae6",
   "metadata": {},
   "source": [
    "# Cs"
   ]
  },
  {
   "cell_type": "code",
   "execution_count": null,
   "id": "51bc4c30",
   "metadata": {},
   "outputs": [],
   "source": [
    "C_Sky_Albedo=Scene_Albedo(C_Sky)\n",
    "\n",
    "fcv,Final_Scene_Albedo,x_values, Best =Cloud_Data(Cs_, C_Sky_Albedo)\n",
    "\n",
    "Graph(fcv,Final_Scene_Albedo,x_values, Best)"
   ]
  },
  {
   "cell_type": "markdown",
   "id": "21c4987d",
   "metadata": {},
   "source": [
    "# Cu"
   ]
  },
  {
   "cell_type": "code",
   "execution_count": null,
   "id": "92eba736",
   "metadata": {},
   "outputs": [],
   "source": [
    "C_Sky_Albedo=Scene_Albedo(C_Sky)\n",
    "\n",
    "fcv,Final_Scene_Albedo,x_values, Best =Cloud_Data(Cu_, C_Sky_Albedo)\n",
    "\n",
    "Graph(fcv,Final_Scene_Albedo,x_values, Best)"
   ]
  },
  {
   "cell_type": "markdown",
   "id": "e6254e22",
   "metadata": {},
   "source": [
    "# Ns"
   ]
  },
  {
   "cell_type": "code",
   "execution_count": null,
   "id": "8dc15e38",
   "metadata": {},
   "outputs": [],
   "source": [
    "C_Sky_Albedo=Scene_Albedo(C_Sky)\n",
    "\n",
    "fcv,Final_Scene_Albedo,x_values, Best =Cloud_Data(Ns_, C_Sky_Albedo)\n",
    "\n",
    "Graph(fcv,Final_Scene_Albedo,x_values, Best)"
   ]
  },
  {
   "cell_type": "markdown",
   "id": "3cb891ba",
   "metadata": {},
   "source": [
    "# St"
   ]
  },
  {
   "cell_type": "code",
   "execution_count": null,
   "id": "f6f0248a",
   "metadata": {},
   "outputs": [],
   "source": [
    "C_Sky_Albedo=Scene_Albedo(C_Sky)\n",
    "\n",
    "fcv,Final_Scene_Albedo,x_values, Best =Cloud_Data(St_, C_Sky_Albedo)\n",
    "\n",
    "Graph(fcv,Final_Scene_Albedo,x_values, Best)"
   ]
  },
  {
   "cell_type": "code",
   "execution_count": null,
   "id": "19e3950f",
   "metadata": {},
   "outputs": [],
   "source": [
    "def Scene_Albedo(C_Sky):\n",
    "    toa_sw_clr_mon=C_Sky['toa_sw_clr_mon'][ 0:227 ,30:150, :]\n",
    "    C_sw_leave=np.ravel(toa_sw_clr_mon)\n",
    "    toa_solar_all_mon=C_Sky['toa_solar_all_mon'][ 0:227 ,30:150, :]\n",
    "    A_sw_income=np.ravel(toa_solar_all_mon)\n",
    "    \n",
    "    \n",
    "    C_Sky_Albedo=C_sw_leave/A_sw_income\n",
    "    return C_Sky_Albedo\n",
    " "
   ]
  },
  {
   "cell_type": "code",
   "execution_count": null,
   "id": "342280fb",
   "metadata": {},
   "outputs": [],
   "source": [
    "def Cloud_Data(Cloud_Type, C_Sky_Albedo):\n",
    "    fraction= Cloud_Type['cldarea_cldtyp_mon'][:,30:150,:]/100\n",
    "    fc=np.ravel(fraction)\n",
    "\n",
    "    Albedo= Cloud_Type['toa_albedo_cldtyp_mon'][0:227,30:150,:]\n",
    "    \n",
    "    Ac=np.ravel(Albedo)\n",
    "    \n",
    "    Ocn_month= Ocean_['aux_ocean_mon'][0:227,30:150,:]\n",
    "    #Ocn_month\n",
    "    Oc_1d=np.ravel(Ocn_month)\n",
    "    #Oc_1d\n",
    "    full_ocean=Oc_1d==100\n",
    "\n",
    "    \n",
    "    notnan0 = np.logical_and(~np.isnan(fc),~np.isnan(C_Sky_Albedo))\n",
    "    \n",
    "    notnan1=np.logical_and(~np.isnan(Ac), full_ocean)\n",
    "    \n",
    "    notnan=np.logical_and(notnan0, notnan1)\n",
    "    \n",
    "    fcv=fc[notnan]\n",
    "    Acv=Ac[notnan]\n",
    "    Asv=C_Sky_Albedo[notnan]\n",
    "    \n",
    "    Final_Scene_Albedo= fcv*Acv+(1- fcv)*Asv\n",
    "    \n",
    "    y = np.log(Final_Scene_Albedo)\n",
    "    x = fcv\n",
    "    slope = np.sum((x-x.mean())*(y-y.mean()))/np.sum((x-x.mean())**2)\n",
    "    intercept = y.mean()-slope*x.mean()\n",
    "    \n",
    "    x_values=np.arange(0,1,.01)\n",
    "    Best=np.exp(intercept+slope*x_values)\n",
    "    \n",
    "    return fcv, Final_Scene_Albedo, x_values, Best"
   ]
  },
  {
   "cell_type": "markdown",
   "id": "55c88fd9",
   "metadata": {},
   "source": [
    "# Cb Clouds"
   ]
  },
  {
   "cell_type": "code",
   "execution_count": null,
   "id": "d0544a82",
   "metadata": {},
   "outputs": [],
   "source": [
    "C_Sky_Albedo=Scene_Albedo(C_Sky)\n",
    "\n",
    "fcv,Final_Scene_Albedo,x_values, Best =Cloud_Data(Cb_, C_Sky_Albedo)\n",
    "\n",
    "Graph(fcv,Final_Scene_Albedo,x_values, Best)"
   ]
  }
 ],
 "metadata": {
  "kernelspec": {
   "display_name": "Python 3",
   "language": "python",
   "name": "python3"
  },
  "language_info": {
   "codemirror_mode": {
    "name": "ipython",
    "version": 3
   },
   "file_extension": ".py",
   "mimetype": "text/x-python",
   "name": "python",
   "nbconvert_exporter": "python",
   "pygments_lexer": "ipython3",
   "version": "3.8.8"
  }
 },
 "nbformat": 4,
 "nbformat_minor": 5
}
