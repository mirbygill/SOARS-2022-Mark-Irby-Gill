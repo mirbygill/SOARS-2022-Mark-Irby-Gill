{
 "cells": [
  {
   "cell_type": "code",
   "execution_count": 2,
   "id": "79b0f734-1cee-4d56-9fb6-087c5f5913a9",
   "metadata": {},
   "outputs": [],
   "source": [
    "import numpy as np\n",
    "import xarray as xr\n",
    "import scipy\n",
    "from scipy import stats\n",
    "import scipy.special as sp\n",
    "import matplotlib.pyplot as plt\n",
    "import matplotlib.cm as cm\n",
    "from glob import glob\n",
    "import os"
   ]
  },
  {
   "cell_type": "code",
   "execution_count": 3,
   "id": "b9a3416b-0a16-4d2e-9d6e-f7c1b4f3c081",
   "metadata": {},
   "outputs": [
    {
     "ename": "SyntaxError",
     "evalue": "unexpected EOF while parsing (<ipython-input-3-c4ce1e795110>, line 4)",
     "output_type": "error",
     "traceback": [
      "\u001b[1;36m  File \u001b[1;32m\"<ipython-input-3-c4ce1e795110>\"\u001b[1;36m, line \u001b[1;32m4\u001b[0m\n\u001b[1;33m    #colors = {'Cu' : cm.Blues(.25), 'Sc' : cm.Blues(.5), 'St' : cm.Blues(.75), 'Ac' : cm.Purples(.25), 'As' : cm.Purples(.5), 'Ns' : cm.Purples(.75), 'Ci' : cm.Reds(.25), 'Cs' : cm.Reds(.5), 'Cb' : cm.Reds(.75),'all' : '.5'}\u001b[0m\n\u001b[1;37m                                                                                                                                                                                                                                 ^\u001b[0m\n\u001b[1;31mSyntaxError\u001b[0m\u001b[1;31m:\u001b[0m unexpected EOF while parsing\n"
     ]
    }
   ],
   "source": [
    "cFlx = xr.open_mfdataset(sorted(glob('/Users/marki/Downloads/CERES_FluxByCldTyp-MON_Terra-Aqua-MODIS_Ed4.1_Subset_allsky_clearsky.nc')))\n",
    "\n",
    "syn = xr.open_mfdataset(sorted(glob('/Users/marki/Downloads/CERES_SSF1deg-Month_Aqua-MODIS_Ed4.1_Subset_200207-202203.nc'))\n",
    "#colors = {'Cu' : cm.Blues(.25), 'Sc' : cm.Blues(.5), 'St' : cm.Blues(.75), 'Ac' : cm.Purples(.25), 'As' : cm.Purples(.5), 'Ns' : cm.Purples(.75), 'Ci' : cm.Reds(.25), 'Cs' : cm.Reds(.5), 'Cb' : cm.Reds(.75),'all' : '.5'}"
   ]
  },
  {
   "cell_type": "code",
   "execution_count": null,
   "id": "4a0d07b2-abb0-44bb-8f69-cfa469fb0e7e",
   "metadata": {},
   "outputs": [],
   "source": [
    "#\n",
    "###Functions to calculate cloud fraction and albedo\n",
    "#\n",
    "\n",
    "def get_A_binned(ct,bin_width=.1):\n",
    "    \"\"\"\n",
    "    Bin albedo values by cloud fraction for a given cloud type\n",
    "    \n",
    "    Parameters\n",
    "    ----------\n",
    "    ct : str\n",
    "    Cloud type ('Cu','Sc','St','Ac','As','Ns','Ci','Cs', or 'Cb')\n",
    "    \n",
    "    bin_width : float\n",
    "    Width of cloud fraction bins. Default is 0.1 (10%)\n",
    "    \n",
    "    Returns\n",
    "    -------\n",
    "    Cbinc : array\n",
    "    Centers of cloud fraction bins\n",
    "    \n",
    "    A_binned : array-like\n",
    "    List of arrays of albedo data for each cloud fraction bin\n",
    "    \"\"\"\n",
    "\n",
    "    CF_ = np.ravel(dFlx[ct]['cldarea_cldtyp_mon']/100)\n",
    "    Ac_ = np.ravel(dFlx[ct]['toa_albedo_cldtyp_mon'])\n",
    "    As_ = np.ravel(cFlx['toa_sw_clr_mon']/cFlx['toa_solar_all_mon'])\n",
    "    A_ = CF_*Ac_ + (1-CF_)*As_\n",
    "\n",
    "    #Mask out invalid data (NaNs, land, ice)\n",
    "    ocn = np.ravel(syn['aux_ocean_mon']) == 100\n",
    "    nan = np.logical_or(np.isnan(CF_),np.isnan(A_))\n",
    "    valid = np.logical_and(ocn,~nan)\n",
    "\n",
    "    CF = CF_[valid]\n",
    "    A = A_[valid]\n",
    "\n",
    "    Cbinc = np.arange(bin_width/2,1,bin_width)\n",
    "    A_binned = [(A[np.logical_and(CF>Cc-bin_width/2,CF<=Cc+bin_width/2)]) for Cc in Cbinc]\n",
    "    \n",
    "    return Cbinc, A_binned\n"
   ]
  },
  {
   "cell_type": "code",
   "execution_count": null,
   "id": "d0f3e941-ac42-49e3-9200-384976e3c5f3",
   "metadata": {},
   "outputs": [],
   "source": [
    "cldtypes = ['Cu','Sc','St','Ac','As','Ns','Ci','Cs','Cb']\n",
    "dFlx = {} #Each cloud type aggregated separately\n",
    "for cldtype in cldtypes:\n",
    "    dFlx[cldtype] = xr.open_dataset('../%s_climo_mon.nc' % cldtype)"
   ]
  },
  {
   "cell_type": "markdown",
   "id": "26098915-a0d4-4b59-8700-029d9b5ed47f",
   "metadata": {},
   "source": [
    "Important Line\n",
    "``Cbinc, A_binned = get_A_binned(cldtype,bin_width=.1)``"
   ]
  },
  {
   "cell_type": "code",
   "execution_count": null,
   "id": "b26b3a0a-d6e0-4abe-97ce-c376e7085b16",
   "metadata": {},
   "outputs": [],
   "source": [
    "for cldtype in cldtypes:\n",
    "    Cbinc, A_binned = get_A_binned(cldtype,bin_width=.1)\n",
    "    print('----------------------------------------')\n",
    "    print('Values for '+cldtype)\n",
    "    print(Cbinc)\n",
    "    print(A_binned)"
   ]
  },
  {
   "cell_type": "code",
   "execution_count": 1,
   "id": "99aaa343-fe17-47a6-919a-83fb8e4a9bc3",
   "metadata": {},
   "outputs": [
    {
     "ename": "NameError",
     "evalue": "name 'np' is not defined",
     "output_type": "error",
     "traceback": [
      "\u001b[1;31m---------------------------------------------------------------------------\u001b[0m",
      "\u001b[1;31mNameError\u001b[0m                                 Traceback (most recent call last)",
      "\u001b[1;32m<ipython-input-1-d005fdb4dee1>\u001b[0m in \u001b[0;36m<module>\u001b[1;34m\u001b[0m\n\u001b[1;32m----> 1\u001b[1;33m \u001b[0mnp\u001b[0m\u001b[1;33m.\u001b[0m\u001b[0mshape\u001b[0m\u001b[1;33m(\u001b[0m\u001b[0mCbinc\u001b[0m\u001b[1;33m)\u001b[0m\u001b[1;33m\u001b[0m\u001b[1;33m\u001b[0m\u001b[0m\n\u001b[0m",
      "\u001b[1;31mNameError\u001b[0m: name 'np' is not defined"
     ]
    }
   ],
   "source": [
    "np.shape(Cbinc)"
   ]
  },
  {
   "cell_type": "code",
   "execution_count": null,
   "id": "d1bfaeb6",
   "metadata": {},
   "outputs": [],
   "source": []
  }
 ],
 "metadata": {
  "kernelspec": {
   "display_name": "Python 3",
   "language": "python",
   "name": "python3"
  },
  "language_info": {
   "codemirror_mode": {
    "name": "ipython",
    "version": 3
   },
   "file_extension": ".py",
   "mimetype": "text/x-python",
   "name": "python",
   "nbconvert_exporter": "python",
   "pygments_lexer": "ipython3",
   "version": "3.8.8"
  }
 },
 "nbformat": 4,
 "nbformat_minor": 5
}
